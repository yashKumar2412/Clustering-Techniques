{
  "nbformat": 4,
  "nbformat_minor": 0,
  "metadata": {
    "colab": {
      "provenance": []
    },
    "kernelspec": {
      "name": "python3",
      "display_name": "Python 3"
    },
    "language_info": {
      "name": "python"
    }
  },
  "cells": [
    {
      "cell_type": "code",
      "execution_count": null,
      "metadata": {
        "id": "QKkzF-js7OSu"
      },
      "outputs": [],
      "source": [
        "!pip install -q torch torchvision torchaudio sentence-transformers librosa scikit-learn matplotlib\n",
        "!git clone https://github.com/facebookresearch/ImageBind.git"
      ]
    },
    {
      "cell_type": "code",
      "source": [
        "%cd ImageBind\n",
        "!sed -i '/mayavi/d' requirements.txt\n",
        "!pip install -q -r requirements.txt\n",
        "!pip install -q ."
      ],
      "metadata": {
        "id": "x54bIEDG-ceE"
      },
      "execution_count": null,
      "outputs": []
    },
    {
      "cell_type": "code",
      "source": [
        "import os\n",
        "os.kill(os.getpid(), 9)"
      ],
      "metadata": {
        "id": "MFZebGemAiWC"
      },
      "execution_count": null,
      "outputs": []
    },
    {
      "cell_type": "code",
      "source": [
        "import os\n",
        "import librosa\n",
        "import numpy as np\n",
        "import pandas as pd\n",
        "import matplotlib.pyplot as plt\n",
        "from sklearn.cluster import KMeans\n",
        "from sklearn.manifold import TSNE\n",
        "from sklearn.metrics import silhouette_score\n",
        "import torch\n",
        "from imagebind.models import imagebind_model\n",
        "from imagebind.models.imagebind_model import ModalityType"
      ],
      "metadata": {
        "id": "SbBQuIqE8zAC"
      },
      "execution_count": null,
      "outputs": []
    },
    {
      "cell_type": "code",
      "source": [
        "device = \"cuda\" if torch.cuda.is_available() else \"cpu\"\n",
        "model = imagebind_model.imagebind_huge(pretrained=True)\n",
        "model.to(device)"
      ],
      "metadata": {
        "collapsed": true,
        "id": "ECLXTETiHDpa"
      },
      "execution_count": null,
      "outputs": []
    }
  ]
}